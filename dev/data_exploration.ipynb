{
 "cells": [
  {
   "cell_type": "markdown",
   "id": "205b51df",
   "metadata": {},
   "source": [
    "### 36 HEHE"
   ]
  }
 ],
 "metadata": {
  "language_info": {
   "name": "python"
  }
 },
 "nbformat": 4,
 "nbformat_minor": 5
}
