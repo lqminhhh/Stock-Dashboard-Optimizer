{
 "cells": [
  {
   "cell_type": "markdown",
   "id": "0f17c9be",
   "metadata": {},
   "source": [
    "### Step 1: Import Libraries"
   ]
  },
  {
   "cell_type": "code",
   "execution_count": 6,
   "id": "9b0efc11",
   "metadata": {},
   "outputs": [],
   "source": [
    "import requests\n",
    "import pandas as pd\n",
    "from datetime import datetime, timedelta\n",
    "import time\n",
    "import json"
   ]
  },
  {
   "cell_type": "markdown",
   "id": "d17f98ed",
   "metadata": {},
   "source": [
    "### Step 2: Set the News Timeframe to the Last 30 Days"
   ]
  },
  {
   "cell_type": "code",
   "execution_count": 7,
   "id": "b11c8712",
   "metadata": {},
   "outputs": [],
   "source": [
    "now = datetime.today()\n",
    "one_month_ago = now - timedelta(days=30) + timedelta(minutes=1)\n",
    "time_from = one_month_ago.strftime(\"%Y%m%dT%H%M\")\n",
    "time_to = now.strftime(\"%Y%m%dT%H%M\")\n"
   ]
  },
  {
   "cell_type": "code",
   "execution_count": 8,
   "id": "fe1b42d3",
   "metadata": {},
   "outputs": [],
   "source": [
    "API_KEY = \"CWMJJ57KWGHTBMAV\""
   ]
  },
  {
   "cell_type": "markdown",
   "id": "555c6ec5",
   "metadata": {},
   "source": [
    "### Step 3: Load the S&P 500 Tickers from a CSV File"
   ]
  },
  {
   "cell_type": "code",
   "execution_count": 14,
   "id": "87570cb1",
   "metadata": {},
   "outputs": [
    {
     "data": {
      "text/plain": [
       "array(['AMD', 'AES', 'AFL', 'A', 'APD'], dtype=object)"
      ]
     },
     "execution_count": 14,
     "metadata": {},
     "output_type": "execute_result"
    }
   ],
   "source": [
    "df_tickers = pd.read_csv(\"../data/S&P500.csv\", encoding='latin1')\n",
    "tickers = df_tickers['Symbol'].dropna().unique()[6:11]  # First 5 to test\n",
    "\n",
    "tickers"
   ]
  },
  {
   "cell_type": "markdown",
   "id": "d714479a",
   "metadata": {},
   "source": [
    "### Step 4: List to Store All News"
   ]
  },
  {
   "cell_type": "code",
   "execution_count": 15,
   "id": "15d02394",
   "metadata": {},
   "outputs": [],
   "source": [
    "all_articles = []"
   ]
  },
  {
   "cell_type": "markdown",
   "id": "6dc32914",
   "metadata": {},
   "source": [
    "### Step 5: Fetch and Preview Articles for the First 20 Tickers"
   ]
  },
  {
   "cell_type": "code",
   "execution_count": 16,
   "id": "4645e49f",
   "metadata": {},
   "outputs": [
    {
     "name": "stdout",
     "output_type": "stream",
     "text": [
      "[1/5] ✅ AMD — 50 articles\n",
      "[2/5] ✅ AES — 3 articles\n",
      "[3/5] ✅ AFL — 11 articles\n",
      "[4/5] ✅ A — 10 articles\n",
      "[5/5] ✅ APD — 2 articles\n"
     ]
    }
   ],
   "source": [
    "for i, ticker in enumerate(tickers):\n",
    "    url = (\n",
    "        f\"https://www.alphavantage.co/query?\"\n",
    "        f\"function=NEWS_SENTIMENT\"\n",
    "        f\"&tickers={ticker}\"\n",
    "        f\"&time_from={time_from}\"\n",
    "        f\"&time_to={time_to}\"\n",
    "        f\"&limit=50\"\n",
    "        f\"&apikey={API_KEY}\"\n",
    "    )\n",
    "    \n",
    "    try:\n",
    "        resp = requests.get(url)\n",
    "        resp.raise_for_status()\n",
    "        feed = resp.json().get(\"feed\", [])\n",
    "\n",
    "        for article in feed:\n",
    "            all_articles.append({\n",
    "                \"Ticker\": ticker,\n",
    "                \"Title\": article.get(\"title\"),\n",
    "                \"Source\": article.get(\"source\"),\n",
    "                \"PublishedAt\": article.get(\"time_published\"),\n",
    "                \"Sentiment\": article.get(\"overall_sentiment_label\"),\n",
    "                \"Sentiment Score\": article.get(\"overall_sentiment_score\"),\n",
    "                \"URL\": article.get(\"url\")\n",
    "            })\n",
    "\n",
    "        print(f\"[{i+1}/5] ✅ {ticker} — {len(feed)} articles\")\n",
    "        time.sleep(12)  # respects 5 req/min limit\n",
    "\n",
    "    except Exception as e:\n",
    "        print(f\"[{i+1}/5] ❌ {ticker} — Error: {e}\")"
   ]
  },
  {
   "cell_type": "markdown",
   "id": "fb47ab0d",
   "metadata": {},
   "source": [
    "### Step 6: Store as CSV File"
   ]
  },
  {
   "cell_type": "code",
   "execution_count": 17,
   "id": "7b72cb32",
   "metadata": {},
   "outputs": [
    {
     "name": "stdout",
     "output_type": "stream",
     "text": [
      "✅ Saved: test_5_ticker_news.csv\n"
     ]
    }
   ],
   "source": [
    "df = pd.DataFrame(all_articles)\n",
    "df.to_csv(\"test_5_ticker_news.csv\", index=False)\n",
    "print(\"✅ Saved: test_5_ticker_news.csv\")"
   ]
  }
 ],
 "metadata": {
  "kernelspec": {
   "display_name": "Python 3",
   "language": "python",
   "name": "python3"
  },
  "language_info": {
   "codemirror_mode": {
    "name": "ipython",
    "version": 3
   },
   "file_extension": ".py",
   "mimetype": "text/x-python",
   "name": "python",
   "nbconvert_exporter": "python",
   "pygments_lexer": "ipython3",
   "version": "3.12.0"
  }
 },
 "nbformat": 4,
 "nbformat_minor": 5
}
